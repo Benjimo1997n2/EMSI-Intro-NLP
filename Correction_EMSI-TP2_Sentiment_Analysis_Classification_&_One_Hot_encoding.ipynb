{
  "nbformat": 4,
  "nbformat_minor": 0,
  "metadata": {
    "colab": {
      "provenance": []
    },
    "kernelspec": {
      "name": "python3",
      "display_name": "Python 3"
    },
    "language_info": {
      "name": "python"
    }
  },
  "cells": [
    {
      "cell_type": "markdown",
      "source": [
        "# Partie 1. Rappels sur le pre-traitement du texte\n",
        "On commence par installer nlltk"
      ],
      "metadata": {
        "id": "IQP6DdqATTNw"
      }
    },
    {
      "cell_type": "code",
      "execution_count": null,
      "metadata": {
        "id": "-sVkFZSRzo9V"
      },
      "outputs": [],
      "source": [
        "!pip install -q nltk\n",
        "# Ici l'option -q signifie une installation en mode \"silencieux\", c'est-à-dire sans afficher de messages à l'utilisateur pendant le processus d'installation."
      ]
    },
    {
      "cell_type": "markdown",
      "source": [
        "On importe nltk et download les données pour la **tokenisation** et **POS tagging** (fonctions grammaticales des mots)"
      ],
      "metadata": {
        "id": "d5SRqjXeTbXp"
      }
    },
    {
      "cell_type": "code",
      "source": [
        "%%capture\n",
        "import nltk\n",
        "# Données pour la Tokenisation\n",
        "nltk.download('punkt')\n",
        "# Données pour le pos_tagging\n",
        "nltk.download('averaged_perceptron_tagger')"
      ],
      "metadata": {
        "id": "HayCDTYu6VBW"
      },
      "execution_count": null,
      "outputs": []
    },
    {
      "cell_type": "markdown",
      "source": [
        "### Rappel\n",
        "**Tokenisation** : La tokenisation est le processus de division d'un texte en éléments plus petits appelés tokens. Ces tokens sont souvent des mots, mais peuvent aussi être des phrases, des symboles ou d'autres éléments significatifs dans le contexte du texte. Par exemple, dans la phrase \"Le chat dort\", la tokenisation la diviserait en trois tokens : \"Le\", \"chat\", \"dort\". C'est une étape fondamentale dans le TALN, car elle permet de structurer le texte pour une analyse plus poussée."
      ],
      "metadata": {
        "id": "KwfOQRimqe3G"
      }
    },
    {
      "cell_type": "markdown",
      "source": [
        "Maintenant on test et on explore la **tokenisation** et **postag**\n",
        "\n",
        "On peux tester différents tokenizers comme celui pour traiter les tweets (traite différament les \"#\")"
      ],
      "metadata": {
        "id": "pLIuvzZQCJhS"
      }
    },
    {
      "cell_type": "code",
      "source": [
        "from nltk.tokenize.casual import TweetTokenizer\n",
        "# Création d'un objet TweetTokenizer\n",
        "tokenizer = TweetTokenizer()\n",
        "text = \"Now we are having a Computer Science #class\"\n",
        "# Tokenisation du texte à l'aide de TweetTokenizer\n",
        "tokens = tokenizer.tokenize(text)\n",
        "print(tokens)\n",
        "\n",
        "# Tokenisation\n",
        "text = nltk.word_tokenize(\"Now we are having a Computer Science #class\")\n",
        "print(text)"
      ],
      "metadata": {
        "colab": {
          "base_uri": "https://localhost:8080/"
        },
        "id": "XD3rzU7YBXe7",
        "outputId": "b30bc12e-06e3-452e-83df-6f5605c6bafb"
      },
      "execution_count": null,
      "outputs": [
        {
          "output_type": "stream",
          "name": "stdout",
          "text": [
            "['Now', 'we', 'are', 'having', 'a', 'Computer', 'Science', '#class']\n",
            "['Now', 'we', 'are', 'having', 'a', 'Computer', 'Science', '#', 'class']\n"
          ]
        }
      ]
    },
    {
      "cell_type": "markdown",
      "source": [
        "### Rappel\n",
        "**POS-tagger (Part-Of-Speech tagger)** : Un POS-tagger est un outil utilisé pour assigner des étiquettes de catégories grammaticales aux tokens d'un texte. Ces catégories peuvent inclure des noms, des verbes, des adjectifs, etc. Par exemple, dans la phrase \"Le chat dort\", un POS-tagger identifierait \"Le\" comme un article, \"chat\" comme un nom, et \"dort\" comme un verbe. Cette étape est cruciale pour comprendre la structure grammaticale d'une phrase et pour de nombreuses applications comme la traduction automatique ou l'analyse sémantique."
      ],
      "metadata": {
        "id": "sdmrHtGLqqzc"
      }
    },
    {
      "cell_type": "markdown",
      "source": [
        "Verifier les pos sur la doc NLTK, êtes vous d'accord ?"
      ],
      "metadata": {
        "id": "FiECdVQ_Yboh"
      }
    },
    {
      "cell_type": "code",
      "source": [
        "# Pos tagging https://www.nltk.org/book/ch05.html\n",
        "nltk.pos_tag(text)"
      ],
      "metadata": {
        "colab": {
          "base_uri": "https://localhost:8080/"
        },
        "id": "SLni8SOs57j6",
        "outputId": "9b828d1e-6702-47a2-f923-d59ebd7fa96a"
      },
      "execution_count": null,
      "outputs": [
        {
          "output_type": "execute_result",
          "data": {
            "text/plain": [
              "[('Now', 'RB'),\n",
              " ('we', 'PRP'),\n",
              " ('are', 'VBP'),\n",
              " ('having', 'VBG'),\n",
              " ('a', 'DT'),\n",
              " ('Computer', 'NNP'),\n",
              " ('Science', 'NNP'),\n",
              " ('#', '#'),\n",
              " ('class', 'NN')]"
            ]
          },
          "metadata": {},
          "execution_count": 4
        }
      ]
    },
    {
      "cell_type": "markdown",
      "source": [
        "Maintenant on explore la **lemmatisation** et on importe les données pour utiliser *wordnet*\n",
        "\n",
        "*WordNet* est une base de données lexicale pour l'anglais qui organise les mots en synsets (ensembles de synonymes) et fournit des définitions, des exemples et des relations sémantiques pour chaque synset. *WordNet* est largement utilisé en traitement automatique du langage naturel pour la recherche d'informations, la classification de textes, la génération de textes, etc."
      ],
      "metadata": {
        "id": "Nwd3zBYlUzJZ"
      }
    },
    {
      "cell_type": "code",
      "source": [
        "%%capture\n",
        "nltk.download('wordnet')\n",
        "# Multilingual\n",
        "nltk.download('omw-1.4')"
      ],
      "metadata": {
        "id": "o8LkBSfU7QNV"
      },
      "execution_count": null,
      "outputs": []
    },
    {
      "cell_type": "markdown",
      "source": [
        "On test et observe la **lemmatisation**\n",
        "\n",
        "### Rappel\n",
        "**Lemmatisation** : La lemmatisation est le processus de réduction des mots à leur forme de base ou de dictionnaire, appelée \"lemme\". Par exemple, pour le verbe \"courir\", les formes \"court\", \"courais\", et \"couru\" seraient toutes ramenées à \"courir\". Cette technique est utile pour regrouper différentes formes d'un même mot, ce qui facilite l'analyse sémantique et la comparaison de textes. Contrairement à la simple suppression des terminaisons (stemming), la lemmatisation tient compte du contexte et de la morphologie du mot pour déterminer sa forme de base."
      ],
      "metadata": {
        "id": "nzSP7pvOWfCI"
      }
    },
    {
      "cell_type": "code",
      "source": [
        "from nltk.stem import WordNetLemmatizer\n",
        "from nltk import word_tokenize,pos_tag\n",
        "text = \"She jumped into the river and breathed heavily\"\n",
        "wordnet = WordNetLemmatizer()\n",
        "for token,tag in pos_tag(word_tokenize(text)):\n",
        "  pos=tag[0].lower()\n",
        "  # Certains tokens peuvent avoir une étiquette PoS qui n'est pas reconnue par WordNet (par exemple, une abréviation ou une faute de frappe).\n",
        "  # Dans ce cas, la variable pos est initialisée à 'n', qui correspond à la classe nominale par défaut de WordNet\n",
        "  if pos not in ['a', 'r', 'n', 'v']:\n",
        "      pos='n'\n",
        "  # On print le mot et son lem\n",
        "  print(token,\"--->\",wordnet.lemmatize(token,pos))"
      ],
      "metadata": {
        "colab": {
          "base_uri": "https://localhost:8080/"
        },
        "id": "ZEHIH39S6odR",
        "outputId": "e01cf805-b093-455b-ea2f-94124e7e1156"
      },
      "execution_count": null,
      "outputs": [
        {
          "output_type": "stream",
          "name": "stdout",
          "text": [
            "She ---> She\n",
            "jumped ---> jump\n",
            "into ---> into\n",
            "the ---> the\n",
            "river ---> river\n",
            "and ---> and\n",
            "breathed ---> breathe\n",
            "heavily ---> heavily\n"
          ]
        }
      ]
    },
    {
      "cell_type": "markdown",
      "source": [
        "# Partie 2. Entrainer des word embeddings et tester des similarités entre vecteurs"
      ],
      "metadata": {
        "id": "xrj39T_k7eS5"
      }
    },
    {
      "cell_type": "markdown",
      "source": [
        "## 1. Entrainer un word embedding avec le Corpus Brown :\n",
        "On commence par télécharger les données du corpus \"Brown\", un des premiers grands corpus textuels de l'anglais américain compilé pour la recherche linguistique et la recherche d'informations.\n",
        "\n",
        "Il contient environ un million de mots issus de différents genres de textes, tels que la fiction, le journalisme, l'essai et la science. Le corpus est étiqueté par parties du discours (PoS) et divisé en différentes catégories de texte, telles que \"news\", \"editorial\", \"reviews\", \"religion\", \"science_fiction\", etc."
      ],
      "metadata": {
        "id": "HKuq-sAQXdUm"
      }
    },
    {
      "cell_type": "code",
      "source": [
        "%%capture\n",
        "nltk.download('brown')\n",
        "nltk.download('gutenberg')\n",
        "nltk.download('treebank')"
      ],
      "metadata": {
        "id": "jGEGjSEj7pha"
      },
      "execution_count": null,
      "outputs": []
    },
    {
      "cell_type": "markdown",
      "source": [
        "Le code suivant importe le module \"gensim\" pour la création et l'entraînement de modèles de plongement de mots, ainsi que le corpus \"brown\" du module \"nltk\". Il utilise ensuite la méthode \"Word2Vec\" de gensim pour créer un modèle Word2Vec à partir des phrases du corpus brown.\n",
        "\n",
        "Plus précisément, le modèle Word2Vec est un algorithme d'**apprentissage non supervisé** qui apprend à associer des vecteurs de nombres réels à chaque mot du corpus d'entraînement. Ces vecteurs sont appelés des embeddings de mots et sont utilisés pour représenter les mots sous forme de vecteurs de dimensions numériques. Ces vecteurs sont utiles pour effectuer diverses tâches de traitement du langage naturel, telles que la classification de texte, l'extraction d'entités, la traduction automatique, etc."
      ],
      "metadata": {
        "id": "PCwzvN86YHZW"
      }
    },
    {
      "cell_type": "markdown",
      "source": [
        "> Question 1: Entrainez deux modèles (brown et gutenberg)"
      ],
      "metadata": {
        "id": "IVp7SDSOF1CY"
      }
    },
    {
      "cell_type": "code",
      "source": [
        "# Environ 1/2min sur Colab\n",
        "import gensim\n",
        "from nltk.corpus import brown, gutenberg\n",
        "# On entraine !\n",
        "model = gensim.models.Word2Vec(brown.sents())\n",
        "# On entraine sur gutenberg pour voir si c'est pareil\n",
        "model_gutenberg = gensim.models.Word2Vec(gutenberg.sents())"
      ],
      "metadata": {
        "id": "dCt_zDLY6vX2"
      },
      "execution_count": null,
      "outputs": []
    },
    {
      "cell_type": "markdown",
      "source": [
        "**Corpus Brown** : Le corpus Brown est un corpus textuel standard en linguistique computationnelle, comprenant une collection diversifiée de textes en anglais américain des années 1960. Il couvre une variété de genres comme la fiction, les actualités, l'éditorial, les loisirs, la religion, etc. Cette diversité de genres permet d'obtenir un modèle d'embeddings (plongements de mots) plus généraliste, reflétant un large éventail d'usages de la langue.\n",
        "\n",
        "**Corpus Gutenberg** : Le corpus Gutenberg, quant à lui, se compose d'œuvres littéraires classiques qui sont disponibles dans le projet Gutenberg. Ce corpus est donc majoritairement littéraire et peut inclure des langues et des styles d'écriture anciens. Les embeddings générés à partir de ce corpus tendront à refléter le langage et le style propres à la littérature classique.\n"
      ],
      "metadata": {
        "id": "GrSObG-us2Zl"
      }
    },
    {
      "cell_type": "markdown",
      "source": [
        "> Question 1 suite: Explorez et expliquez la défférence de résultats, qu'en concluez vous sur les corpus d'entrainement?"
      ],
      "metadata": {
        "id": "nym5YHFIGaGB"
      }
    },
    {
      "cell_type": "code",
      "source": [
        "print(model.wv.most_similar(positive=[\"men\"], topn = 5))\n",
        "print(model_gutenberg.wv.most_similar(positive=[\"men\"], topn = 5))"
      ],
      "metadata": {
        "colab": {
          "base_uri": "https://localhost:8080/"
        },
        "id": "H2Upr7bbAKv6",
        "outputId": "be2b84b6-a21e-413b-dc69-244f7ccd9276"
      },
      "execution_count": null,
      "outputs": [
        {
          "output_type": "stream",
          "name": "stdout",
          "text": [
            "[('children', 0.8937081694602966), ('women', 0.8858170509338379), ('those', 0.8272730112075806), ('people', 0.8157530426979065), ('girls', 0.780735969543457)]\n",
            "[('people', 0.721415102481842), ('women', 0.7056559324264526), ('ladies', 0.6982241272926331), ('nations', 0.663631021976471), ('gentlemen', 0.6553029417991638)]\n"
          ]
        }
      ]
    },
    {
      "cell_type": "markdown",
      "source": [
        "La différence entre les embeddings produits par ces deux corpus provient de la nature distincte de leurs textes. Les mots dans le corpus Brown peuvent avoir des contextes et des significations plus contemporains et diversifiés, tandis que ceux dans le corpus Gutenberg seront plus influencés par le style littéraire et l'usage historique de la langue. Cela conduit à des représentations vectorielles différentes pour les mêmes mots dans chacun des modèles du style \"ladies\" vs \"girls\"."
      ],
      "metadata": {
        "id": "mDomBiZms0WE"
      }
    },
    {
      "cell_type": "markdown",
      "source": [
        "Étant donné que le modèle est \"long\" à entraîner, on le sauvegarde.\n",
        "On utilise cette sauvegarde pour réutiliser le modèle ultérieurement."
      ],
      "metadata": {
        "id": "dq2kTYAPYeUB"
      }
    },
    {
      "cell_type": "code",
      "source": [
        "# On sauvegarde\n",
        "model.save('brown.embedding')\n",
        "# On charge la sauvegarde\n",
        "new_model = gensim.models.Word2Vec.load('brown.embedding')"
      ],
      "metadata": {
        "id": "EFP_jpYo7lkO"
      },
      "execution_count": null,
      "outputs": []
    },
    {
      "cell_type": "markdown",
      "source": [
        "Maintenant on prends le temps d'explorer le model"
      ],
      "metadata": {
        "id": "lR5bqtXQY0rS"
      }
    },
    {
      "cell_type": "code",
      "source": [
        "# La taille d'un vecteur\n",
        "print(len(new_model.wv['university']))\n",
        "# La representation du mot 'university'\n",
        "print(new_model.wv['university'])"
      ],
      "metadata": {
        "colab": {
          "base_uri": "https://localhost:8080/"
        },
        "id": "WAMrR3IU8OVS",
        "outputId": "a517ff8a-92a5-440d-e7c0-e5ace63a1dfd"
      },
      "execution_count": null,
      "outputs": [
        {
          "output_type": "stream",
          "name": "stdout",
          "text": [
            "100\n",
            "[ 0.11222908  0.2573565   0.20131537  0.11046655 -0.06419834 -0.3312994\n",
            "  0.20289847  0.34568515 -0.30586615 -0.2831333   0.16825108 -0.22659375\n",
            "  0.18816854  0.16751575  0.24235485 -0.16200455  0.26813158 -0.1440368\n",
            " -0.52126175 -0.516041    0.28405422 -0.1154093   0.48334637  0.07688861\n",
            " -0.05826193 -0.13207501 -0.23083568  0.01804399 -0.20889646  0.2357317\n",
            "  0.21643938 -0.06742359  0.27901196 -0.37105942 -0.17635356  0.05715831\n",
            " -0.18741407 -0.05285365 -0.3431878  -0.05937559  0.01373528 -0.26858395\n",
            "  0.17934611  0.11576516  0.20346959 -0.00942927 -0.0182605  -0.02518445\n",
            "  0.09978489  0.31021523  0.01484489 -0.28484452 -0.25126758 -0.18876716\n",
            " -0.10775933 -0.22763179  0.17668347  0.05265727 -0.06262635 -0.07865144\n",
            "  0.0294339   0.2000611  -0.03702299 -0.16765524 -0.18888718  0.452196\n",
            "  0.02375798  0.2836484  -0.2636563   0.37004337  0.2054159   0.14760911\n",
            "  0.21714044 -0.00335437  0.33423063  0.09013891  0.1054065   0.04882305\n",
            "  0.02989314 -0.12976383 -0.11986765  0.01056841 -0.21492101  0.07401542\n",
            " -0.18660165 -0.01650762  0.1914271   0.01782674  0.16560942  0.07565296\n",
            "  0.42344365 -0.15310197 -0.11935224  0.11116817  0.32327706  0.11869463\n",
            "  0.16661632 -0.36341515 -0.15164436  0.05406323]\n"
          ]
        }
      ]
    },
    {
      "cell_type": "markdown",
      "source": [
        "> Question 2: Trouvez des incohérences (des mots vraiment différents avec des vecteurs similaires). Comment est ce possible?"
      ],
      "metadata": {
        "id": "EWHyCO3LGp3F"
      }
    },
    {
      "cell_type": "code",
      "source": [
        "# On test des mots similaires\n",
        "print(new_model.wv.similarity('university','school') > 0.3)"
      ],
      "metadata": {
        "colab": {
          "base_uri": "https://localhost:8080/"
        },
        "id": "aRhPRT8D9fvF",
        "outputId": "c3d15201-738e-4484-ebbc-02a7e7b6855e"
      },
      "execution_count": null,
      "outputs": [
        {
          "output_type": "stream",
          "name": "stdout",
          "text": [
            "True\n"
          ]
        }
      ]
    },
    {
      "cell_type": "markdown",
      "source": [
        "## 2. Utiliser le modèle pre-trained:"
      ],
      "metadata": {
        "id": "rmi95HFT93Q9"
      }
    },
    {
      "cell_type": "markdown",
      "source": [
        "On télécharge les fichier pour utiliser le modèle Word2Vec pré-entraîné"
      ],
      "metadata": {
        "id": "deakB9llZkNB"
      }
    },
    {
      "cell_type": "code",
      "source": [
        "%%capture\n",
        "nltk.download('word2vec_sample')"
      ],
      "metadata": {
        "id": "LBsi4X5A-AMD"
      },
      "execution_count": null,
      "outputs": []
    },
    {
      "cell_type": "markdown",
      "source": [
        "On charge le modèle"
      ],
      "metadata": {
        "id": "SBuamU9SZ3F4"
      }
    },
    {
      "cell_type": "code",
      "source": [
        "from nltk.data import find\n",
        "# La méthode find() pour trouver le chemin d'accès au fichier texte \"pruned.word2vec.txt\" qui contient les vecteurs d'embedding de mots pré-entraînés du modèle Word2Vec.\n",
        "word2vec_sample = str(find('models/word2vec_sample/pruned.word2vec.txt'))\n",
        "# La méthode load_word2vec_format() de gensim pour charger les vecteurs d'embedding de mots à partir du fichier texte précédemment localisé.\n",
        "model = gensim.models.KeyedVectors.load_word2vec_format(word2vec_sample,binary=False)"
      ],
      "metadata": {
        "id": "U5yl7BXY9t65"
      },
      "execution_count": null,
      "outputs": []
    },
    {
      "cell_type": "markdown",
      "source": [
        "On trouve les n premiers mots qui sont similaires à \"university\". Le résultat est la liste de n mots avec le score"
      ],
      "metadata": {
        "id": "q9cGHY7AacEB"
      }
    },
    {
      "cell_type": "code",
      "source": [
        "# !cat /root/nltk_data/models/word2vec_sample/pruned.word2vec.txt"
      ],
      "metadata": {
        "id": "9EzVJ4l9n0xW"
      },
      "execution_count": null,
      "outputs": []
    },
    {
      "cell_type": "code",
      "source": [
        "# print(word2vec_sample)"
      ],
      "metadata": {
        "colab": {
          "base_uri": "https://localhost:8080/"
        },
        "id": "xZ-qa-Yxns7M",
        "outputId": "03d872c7-4914-4328-f2eb-8f9d0c16568c"
      },
      "execution_count": null,
      "outputs": [
        {
          "output_type": "stream",
          "name": "stdout",
          "text": [
            "/root/nltk_data/models/word2vec_sample/pruned.word2vec.txt\n"
          ]
        }
      ]
    },
    {
      "cell_type": "code",
      "source": [
        "print(model.most_similar(positive=[\"university\"], topn = 3))"
      ],
      "metadata": {
        "colab": {
          "base_uri": "https://localhost:8080/"
        },
        "id": "w2VRotCo9-Os",
        "outputId": "502125e4-f366-4202-caa9-0be50f48ad3b"
      },
      "execution_count": null,
      "outputs": [
        {
          "output_type": "stream",
          "name": "stdout",
          "text": [
            "[('universities', 0.7003918290138245), ('faculty', 0.6780906915664673), ('undergraduate', 0.6587096452713013)]\n"
          ]
        }
      ]
    },
    {
      "cell_type": "code",
      "source": [
        "# Avec cette méthode d'embedding, le mot 'man' est plus proche que 'girl' du mot 'woman' 😬\n",
        "print(model.most_similar(positive=[\"woman\"], topn = 5))\n",
        "# Ici on remarque qu'on obtient des résultats pertinents avec cette approche \"basique\"\n",
        "print(model.most_similar(positive=[\"king\"], topn = 5))"
      ],
      "metadata": {
        "colab": {
          "base_uri": "https://localhost:8080/"
        },
        "id": "evBYscTd_hsY",
        "outputId": "331a11cb-8210-4fac-bb26-7ae509ca50ab"
      },
      "execution_count": null,
      "outputs": [
        {
          "output_type": "stream",
          "name": "stdout",
          "text": [
            "[('man', 0.7664012312889099), ('girl', 0.749464213848114), ('teenager', 0.6317084431648254), ('lady', 0.628878653049469), ('mother', 0.6076303720474243)]\n",
            "[('kings', 0.7138045430183411), ('queen', 0.6510958671569824), ('monarch', 0.6413193941116333), ('prince', 0.6159992814064026), ('ruler', 0.5797565579414368)]\n"
          ]
        }
      ]
    },
    {
      "cell_type": "markdown",
      "source": [
        "> Question 3:\n",
        "Quel mot obtiens on si on ajoute les vecteurs 'woman' et 'king' et si on enlève 'man'? Et si on ajoute 'Paris','Germany' et on enlève 'Berlin' ?"
      ],
      "metadata": {
        "id": "rbp3LkzKbS0L"
      }
    },
    {
      "cell_type": "code",
      "source": [
        "# TODO\n",
        "print(model.most_similar(positive=['woman','king'], negative=['man'], topn = 1))\n",
        "print(model.most_similar(positive=['Paris','Germany'], negative=['Berlin'],topn = 1))"
      ],
      "metadata": {
        "colab": {
          "base_uri": "https://localhost:8080/"
        },
        "id": "ouML3rw1-LWq",
        "outputId": "5b3b481e-d12c-4658-f296-fb21b2f48e78"
      },
      "execution_count": null,
      "outputs": [
        {
          "output_type": "stream",
          "name": "stdout",
          "text": [
            "[('queen', 0.7118193507194519)]\n",
            "[('France', 0.7884091734886169)]\n"
          ]
        }
      ]
    },
    {
      "cell_type": "markdown",
      "source": [
        "## 3. Visualisation des embeddings."
      ],
      "metadata": {
        "id": "Kdiie8lM-f_s"
      }
    },
    {
      "cell_type": "code",
      "source": [
        "import numpy as np\n",
        "import gensim\n",
        "from sklearn.decomposition import PCA\n",
        "from sklearn.manifold import TSNE\n",
        "import matplotlib.pyplot as plt\n",
        "\n",
        "# Initialise les variables pour stocker les vecteurs et labels\n",
        "labels = []\n",
        "count = 0\n",
        "max_count = 50  # Réduis le nombre de plot\n",
        "X = np.zeros(shape=(max_count, len(model['university'])))\n",
        "\n",
        "# Iteration sur le vocabulare pour avoir les labels et vecteurs\n",
        "for term in model.key_to_index:\n",
        "    X[count] = model[term]\n",
        "    labels.append(term)\n",
        "    count += 1\n",
        "    if count >= max_count:\n",
        "        break\n",
        "\n",
        "# PCA reduction de dimensions\n",
        "pca = PCA(n_components=50)\n",
        "X_50 = pca.fit_transform(X)\n",
        "\n",
        "# Encore une reduction de dimensions avec t-SNE\n",
        "model_tsne = TSNE(n_components=2, random_state=0)\n",
        "Y = model_tsne.fit_transform(X_50)\n",
        "\n",
        "# Scatter plot\n",
        "plt.scatter(Y[:, 0], Y[:, 1], 20)\n",
        "\n",
        "# Ajoute le label\n",
        "for label, x, y in zip(labels, Y[:, 0], Y[:, 1]):\n",
        "    plt.annotate(label, xy=(x, y), xytext=(0, 0), textcoords='offset points', size=12)\n",
        "\n",
        "plt.show()"
      ],
      "metadata": {
        "colab": {
          "base_uri": "https://localhost:8080/",
          "height": 430
        },
        "id": "QGecCK2udFuk",
        "outputId": "e1147c70-92f0-4c28-9c63-41bb5cd48157"
      },
      "execution_count": null,
      "outputs": [
        {
          "output_type": "display_data",
          "data": {
            "text/plain": [
              "<Figure size 640x480 with 1 Axes>"
            ],
            "image/png": "[encoded data removed]"
          },
          "metadata": {}
        }
      ]
    },
    {
      "cell_type": "markdown",
      "source": [
        "# Partie 3. Classification des textes : analyse de sentiments\n",
        "Dans cette troisième partie du TP, nous allons développer quelques modèles pour l’analyse de sentiments (classement de textes). Le dataset utilisé est un dataset d’analyse de sentiments dans le contexte de la finance (https://www.kaggle.com/datasets/sbhatti/financial-sentiment-analysis). Nous allons utiliser pandas, scikit-learn et nltk 1"
      ],
      "metadata": {
        "id": "0MEYJk7dd1Sl"
      }
    },
    {
      "cell_type": "code",
      "source": [
        "import nltk\n",
        "import numpy  as np\n",
        "import pandas as pd\n",
        "from sklearn.metrics import classification_report\n",
        "from sklearn.preprocessing import LabelBinarizer\n",
        "from sklearn.neural_network import MLPClassifier\n",
        "from sklearn.model_selection import train_test_split\n",
        "from sklearn.feature_extraction.text import CountVectorizer\n",
        "import re\n",
        "# On tokenise nous même avec un espace blanc ou un caractère de ponctuation (\\b)\n",
        "token_pattern = re.compile(r'(?u)\\b\\w\\w+\\b')\n",
        "tokenizer = token_pattern.findall"
      ],
      "metadata": {
        "id": "iaWP6wCBdh_J"
      },
      "execution_count": null,
      "outputs": []
    },
    {
      "cell_type": "markdown",
      "source": [
        "On télécharge le dataset (https://www.kaggle.com/datasets/sbhatti/financial-sentiment-analysis?resource=download) et ajoute son path (ou autre méthode pour charger le fichier avec pandas)\n",
        "\n",
        "## 1. Préparation de données\n",
        "\n",
        "Dans mon cas je dépose mon fichier dans mon drive et renseigne le path pour y acceder."
      ],
      "metadata": {
        "id": "YRE6VeCufOqX"
      }
    },
    {
      "cell_type": "code",
      "source": [
        "from google.colab import drive\n",
        "drive.mount('/content/drive')\n",
        "path_data = \"/content/drive/MyDrive/PhD/Activities/Enseignements/Fabron DUT2 - Introduction IA/TP5-6/data.csv\""
      ],
      "metadata": {
        "id": "OlPBG1KMfOWV",
        "colab": {
          "base_uri": "https://localhost:8080/"
        },
        "outputId": "708684a2-ecb1-4f42-f124-3ea127eb1163"
      },
      "execution_count": null,
      "outputs": [
        {
          "output_type": "stream",
          "name": "stdout",
          "text": [
            "Drive already mounted at /content/drive; to attempt to forcibly remount, call drive.mount(\"/content/drive\", force_remount=True).\n"
          ]
        }
      ]
    },
    {
      "cell_type": "code",
      "source": [
        "path_data = # Chemin vers votre csv"
      ],
      "metadata": {
        "id": "iTtL3qZwfYFA"
      },
      "execution_count": null,
      "outputs": []
    },
    {
      "cell_type": "markdown",
      "source": [
        "> Question 4: Visualisez les données"
      ],
      "metadata": {
        "id": "oOuyI73fHmjW"
      }
    },
    {
      "cell_type": "code",
      "source": [
        "data = pd.read_csv(path_data)\n",
        "data.head(10)"
      ],
      "metadata": {
        "colab": {
          "base_uri": "https://localhost:8080/",
          "height": 363
        },
        "id": "JA1XuSBK6P_H",
        "outputId": "56e8a8f5-3892-4049-9f19-a401afd54bf8"
      },
      "execution_count": null,
      "outputs": [
        {
          "output_type": "execute_result",
          "data": {
            "text/plain": [
              "                                            Sentence Sentiment\n",
              "0  The GeoSolutions technology will leverage Bene...  positive\n",
              "1  $ESI on lows, down $1.50 to $2.50 BK a real po...  negative\n",
              "2  For the last quarter of 2010 , Componenta 's n...  positive\n",
              "3  According to the Finnish-Russian Chamber of Co...   neutral\n",
              "4  The Swedish buyout firm has sold its remaining...   neutral\n",
              "5    $SPY wouldn't be surprised to see a green close  positive\n",
              "6  Shell's $70 Billion BG Deal Meets Shareholder ...  negative\n",
              "7  SSH COMMUNICATIONS SECURITY CORP STOCK EXCHANG...  negative\n",
              "8  Kone 's net sales rose by some 14 % year-on-ye...  positive\n",
              "9  The Stockmann department store will have a tot...   neutral"
            ],
            "text/html": [
              "\n",
              "  <div id=\"df-85d72532-eb0f-44b4-81a5-7964587c70e0\" class=\"colab-df-container\">\n",
              "    <div>\n",
              "<style scoped>\n",
              "    .dataframe tbody tr th:only-of-type {\n",
              "        vertical-align: middle;\n",
              "    }\n",
              "\n",
              "    .dataframe tbody tr th {\n",
              "        vertical-align: top;\n",
              "    }\n",
              "\n",
              "    .dataframe thead th {\n",
              "        text-align: right;\n",
              "    }\n",
              "</style>\n",
              "<table border=\"1\" class=\"dataframe\">\n",
              "  <thead>\n",
              "    <tr style=\"text-align: right;\">\n",
              "      <th></th>\n",
              "      <th>Sentence</th>\n",
              "      <th>Sentiment</th>\n",
              "    </tr>\n",
              "  </thead>\n",
              "  <tbody>\n",
              "    <tr>\n",
              "      <th>0</th>\n",
              "      <td>The GeoSolutions technology will leverage Bene...</td>\n",
              "      <td>positive</td>\n",
              "    </tr>\n",
              "    <tr>\n",
              "      <th>1</th>\n",
              "      <td>$ESI on lows, down $1.50 to $2.50 BK a real po...</td>\n",
              "      <td>negative</td>\n",
              "    </tr>\n",
              "    <tr>\n",
              "      <th>2</th>\n",
              "      <td>For the last quarter of 2010 , Componenta 's n...</td>\n",
              "      <td>positive</td>\n",
              "    </tr>\n",
              "    <tr>\n",
              "      <th>3</th>\n",
              "      <td>According to the Finnish-Russian Chamber of Co...</td>\n",
              "      <td>neutral</td>\n",
              "    </tr>\n",
              "    <tr>\n",
              "      <th>4</th>\n",
              "      <td>The Swedish buyout firm has sold its remaining...</td>\n",
              "      <td>neutral</td>\n",
              "    </tr>\n",
              "    <tr>\n",
              "      <th>5</th>\n",
              "      <td>$SPY wouldn't be surprised to see a green close</td>\n",
              "      <td>positive</td>\n",
              "    </tr>\n",
              "    <tr>\n",
              "      <th>6</th>\n",
              "      <td>Shell's $70 Billion BG Deal Meets Shareholder ...</td>\n",
              "      <td>negative</td>\n",
              "    </tr>\n",
              "    <tr>\n",
              "      <th>7</th>\n",
              "      <td>SSH COMMUNICATIONS SECURITY CORP STOCK EXCHANG...</td>\n",
              "      <td>negative</td>\n",
              "    </tr>\n",
              "    <tr>\n",
              "      <th>8</th>\n",
              "      <td>Kone 's net sales rose by some 14 % year-on-ye...</td>\n",
              "      <td>positive</td>\n",
              "    </tr>\n",
              "    <tr>\n",
              "      <th>9</th>\n",
              "      <td>The Stockmann department store will have a tot...</td>\n",
              "      <td>neutral</td>\n",
              "    </tr>\n",
              "  </tbody>\n",
              "</table>\n",
              "</div>\n",
              "    <div class=\"colab-df-buttons\">\n",
              "\n",
              "  <div class=\"colab-df-container\">\n",
              "    <button class=\"colab-df-convert\" onclick=\"convertToInteractive('df-85d72532-eb0f-44b4-81a5-7964587c70e0')\"\n",
              "            title=\"Convert this dataframe to an interactive table.\"\n",
              "            style=\"display:none;\">\n",
              "\n",
              "  <svg xmlns=\"http://www.w3.org/2000/svg\" height=\"24px\" viewBox=\"0 -960 960 960\">\n",
              "    <path d=\"M120-120v-720h720v720H120Zm60-500h600v-160H180v160Zm220 220h160v-160H400v160Zm0 220h160v-160H400v160ZM180-400h160v-160H180v160Zm440 0h160v-160H620v160ZM180-180h160v-160H180v160Zm440 0h160v-160H620v160Z\"/>\n",
              "  </svg>\n",
              "    </button>\n",
              "\n",
              "  <style>\n",
              "    .colab-df-container {\n",
              "      display:flex;\n",
              "      gap: 12px;\n",
              "    }\n",
              "\n",
              "    .colab-df-convert {\n",
              "      background-color: #E8F0FE;\n",
              "      border: none;\n",
              "      border-radius: 50%;\n",
              "      cursor: pointer;\n",
              "      display: none;\n",
              "      fill: #1967D2;\n",
              "      height: 32px;\n",
              "      padding: 0 0 0 0;\n",
              "      width: 32px;\n",
              "    }\n",
              "\n",
              "    .colab-df-convert:hover {\n",
              "      background-color: #E2EBFA;\n",
              "      box-shadow: 0px 1px 2px rgba(60, 64, 67, 0.3), 0px 1px 3px 1px rgba(60, 64, 67, 0.15);\n",
              "      fill: #174EA6;\n",
              "    }\n",
              "\n",
              "    .colab-df-buttons div {\n",
              "      margin-bottom: 4px;\n",
              "    }\n",
              "\n",
              "    [theme=dark] .colab-df-convert {\n",
              "      background-color: #3B4455;\n",
              "      fill: #D2E3FC;\n",
              "    }\n",
              "\n",
              "    [theme=dark] .colab-df-convert:hover {\n",
              "      background-color: #434B5C;\n",
              "      box-shadow: 0px 1px 3px 1px rgba(0, 0, 0, 0.15);\n",
              "      filter: drop-shadow(0px 1px 2px rgba(0, 0, 0, 0.3));\n",
              "      fill: #FFFFFF;\n",
              "    }\n",
              "  </style>\n",
              "\n",
              "    <script>\n",
              "      const buttonEl =\n",
              "        document.querySelector('#df-85d72532-eb0f-44b4-81a5-7964587c70e0 button.colab-df-convert');\n",
              "      buttonEl.style.display =\n",
              "        google.colab.kernel.accessAllowed ? 'block' : 'none';\n",
              "\n",
              "      async function convertToInteractive(key) {\n",
              "        const element = document.querySelector('#df-85d72532-eb0f-44b4-81a5-7964587c70e0');\n",
              "        const dataTable =\n",
              "          await google.colab.kernel.invokeFunction('convertToInteractive',\n",
              "                                                    [key], {});\n",
              "        if (!dataTable) return;\n",
              "\n",
              "        const docLinkHtml = 'Like what you see? Visit the ' +\n",
              "          '<a target=\"_blank\" href=https://colab.research.google.com/notebooks/data_table.ipynb>data table notebook</a>'\n",
              "          + ' to learn more about interactive tables.';\n",
              "        element.innerHTML = '';\n",
              "        dataTable['output_type'] = 'display_data';\n",
              "        await google.colab.output.renderOutput(dataTable, element);\n",
              "        const docLink = document.createElement('div');\n",
              "        docLink.innerHTML = docLinkHtml;\n",
              "        element.appendChild(docLink);\n",
              "      }\n",
              "    </script>\n",
              "  </div>\n",
              "\n",
              "\n",
              "<div id=\"df-ae9f9c41-0709-4521-ac07-d11e2bb5ab7d\">\n",
              "  <button class=\"colab-df-quickchart\" onclick=\"quickchart('df-ae9f9c41-0709-4521-ac07-d11e2bb5ab7d')\"\n",
              "            title=\"Suggest charts\"\n",
              "            style=\"display:none;\">\n",
              "\n",
              "<svg xmlns=\"http://www.w3.org/2000/svg\" height=\"24px\"viewBox=\"0 0 24 24\"\n",
              "     width=\"24px\">\n",
              "    <g>\n",
              "        <path d=\"M19 3H5c-1.1 0-2 .9-2 2v14c0 1.1.9 2 2 2h14c1.1 0 2-.9 2-2V5c0-1.1-.9-2-2-2zM9 17H7v-7h2v7zm4 0h-2V7h2v10zm4 0h-2v-4h2v4z\"/>\n",
              "    </g>\n",
              "</svg>\n",
              "  </button>\n",
              "\n",
              "<style>\n",
              "  .colab-df-quickchart {\n",
              "      --bg-color: #E8F0FE;\n",
              "      --fill-color: #1967D2;\n",
              "      --hover-bg-color: #E2EBFA;\n",
              "      --hover-fill-color: #174EA6;\n",
              "      --disabled-fill-color: #AAA;\n",
              "      --disabled-bg-color: #DDD;\n",
              "  }\n",
              "\n",
              "  [theme=dark] .colab-df-quickchart {\n",
              "      --bg-color: #3B4455;\n",
              "      --fill-color: #D2E3FC;\n",
              "      --hover-bg-color: #434B5C;\n",
              "      --hover-fill-color: #FFFFFF;\n",
              "      --disabled-bg-color: #3B4455;\n",
              "      --disabled-fill-color: #666;\n",
              "  }\n",
              "\n",
              "  .colab-df-quickchart {\n",
              "    background-color: var(--bg-color);\n",
              "    border: none;\n",
              "    border-radius: 50%;\n",
              "    cursor: pointer;\n",
              "    display: none;\n",
              "    fill: var(--fill-color);\n",
              "    height: 32px;\n",
              "    padding: 0;\n",
              "    width: 32px;\n",
              "  }\n",
              "\n",
              "  .colab-df-quickchart:hover {\n",
              "    background-color: var(--hover-bg-color);\n",
              "    box-shadow: 0 1px 2px rgba(60, 64, 67, 0.3), 0 1px 3px 1px rgba(60, 64, 67, 0.15);\n",
              "    fill: var(--button-hover-fill-color);\n",
              "  }\n",
              "\n",
              "  .colab-df-quickchart-complete:disabled,\n",
              "  .colab-df-quickchart-complete:disabled:hover {\n",
              "    background-color: var(--disabled-bg-color);\n",
              "    fill: var(--disabled-fill-color);\n",
              "    box-shadow: none;\n",
              "  }\n",
              "\n",
              "  .colab-df-spinner {\n",
              "    border: 2px solid var(--fill-color);\n",
              "    border-color: transparent;\n",
              "    border-bottom-color: var(--fill-color);\n",
              "    animation:\n",
              "      spin 1s steps(1) infinite;\n",
              "  }\n",
              "\n",
              "  @keyframes spin {\n",
              "    0% {\n",
              "      border-color: transparent;\n",
              "      border-bottom-color: var(--fill-color);\n",
              "      border-left-color: var(--fill-color);\n",
              "    }\n",
              "    20% {\n",
              "      border-color: transparent;\n",
              "      border-left-color: var(--fill-color);\n",
              "      border-top-color: var(--fill-color);\n",
              "    }\n",
              "    30% {\n",
              "      border-color: transparent;\n",
              "      border-left-color: var(--fill-color);\n",
              "      border-top-color: var(--fill-color);\n",
              "      border-right-color: var(--fill-color);\n",
              "    }\n",
              "    40% {\n",
              "      border-color: transparent;\n",
              "      border-right-color: var(--fill-color);\n",
              "      border-top-color: var(--fill-color);\n",
              "    }\n",
              "    60% {\n",
              "      border-color: transparent;\n",
              "      border-right-color: var(--fill-color);\n",
              "    }\n",
              "    80% {\n",
              "      border-color: transparent;\n",
              "      border-right-color: var(--fill-color);\n",
              "      border-bottom-color: var(--fill-color);\n",
              "    }\n",
              "    90% {\n",
              "      border-color: transparent;\n",
              "      border-bottom-color: var(--fill-color);\n",
              "    }\n",
              "  }\n",
              "</style>\n",
              "\n",
              "  <script>\n",
              "    async function quickchart(key) {\n",
              "      const quickchartButtonEl =\n",
              "        document.querySelector('#' + key + ' button');\n",
              "      quickchartButtonEl.disabled = true;  // To prevent multiple clicks.\n",
              "      quickchartButtonEl.classList.add('colab-df-spinner');\n",
              "      try {\n",
              "        const charts = await google.colab.kernel.invokeFunction(\n",
              "            'suggestCharts', [key], {});\n",
              "      } catch (error) {\n",
              "        console.error('Error during call to suggestCharts:', error);\n",
              "      }\n",
              "      quickchartButtonEl.classList.remove('colab-df-spinner');\n",
              "      quickchartButtonEl.classList.add('colab-df-quickchart-complete');\n",
              "    }\n",
              "    (() => {\n",
              "      let quickchartButtonEl =\n",
              "        document.querySelector('#df-ae9f9c41-0709-4521-ac07-d11e2bb5ab7d button');\n",
              "      quickchartButtonEl.style.display =\n",
              "        google.colab.kernel.accessAllowed ? 'block' : 'none';\n",
              "    })();\n",
              "  </script>\n",
              "</div>\n",
              "    </div>\n",
              "  </div>\n"
            ]
          },
          "metadata": {},
          "execution_count": 45
        }
      ]
    },
    {
      "cell_type": "markdown",
      "source": [
        "> Question 5:\n",
        "Encoder les sentiments en utilisant LabelBinarizer pour avoir un encodage OneHot.\n"
      ],
      "metadata": {
        "id": "eCLseS6t6_p6"
      }
    },
    {
      "cell_type": "code",
      "source": [
        "from sklearn.preprocessing import LabelBinarizer\n",
        "\n",
        "# Création d'une instance de LabelBinarizer\n",
        "lb = LabelBinarizer()\n",
        "\n",
        "# Utilisation de fit_transform() de LabelBinarizer pour encoder les sentiments\n",
        "sentiments_encoded = lb.fit_transform(data['Sentiment'])\n",
        "\n",
        "# Ajout d'une nouvelle colonne au DataFrame\n",
        "# Si sentiments_encoded est un tableau 2D (pour le cas de plusieurs classes), on le convertit en liste de tuples\n",
        "data['OneHot_sentiments_encoded'] = list(map(tuple, sentiments_encoded))\n",
        "\n",
        "# Afficher les premières lignes pour vérifier\n",
        "print(data[['Sentiment', 'OneHot_sentiments_encoded']].head(10))"
      ],
      "metadata": {
        "colab": {
          "base_uri": "https://localhost:8080/"
        },
        "id": "9sdaNnfm6J_z",
        "outputId": "69d3aa66-34fe-469b-8e09-5c55cf0c6602"
      },
      "execution_count": null,
      "outputs": [
        {
          "output_type": "stream",
          "name": "stdout",
          "text": [
            "  Sentiment OneHot_sentiments_encoded\n",
            "0  positive                 (0, 0, 1)\n",
            "1  negative                 (1, 0, 0)\n",
            "2  positive                 (0, 0, 1)\n",
            "3   neutral                 (0, 1, 0)\n",
            "4   neutral                 (0, 1, 0)\n",
            "5  positive                 (0, 0, 1)\n",
            "6  negative                 (1, 0, 0)\n",
            "7  negative                 (1, 0, 0)\n",
            "8  positive                 (0, 0, 1)\n",
            "9   neutral                 (0, 1, 0)\n"
          ]
        }
      ]
    },
    {
      "cell_type": "markdown",
      "source": [
        "> Question 6: Diviser le dataset en entrainement et test"
      ],
      "metadata": {
        "id": "1kVf0zmW8fI4"
      }
    },
    {
      "cell_type": "code",
      "source": [
        "\n",
        "from sklearn.model_selection import train_test_split\n",
        "\n",
        "# Diviser le dataset en ensembles d'entraînement et de test\n",
        "# La taille de l'ensemble de test est fixée à 30%, et le random_state est défini pour la reproductibilité\n",
        "X_train, X_test, y_train, y_test = train_test_split(data['Sentence'], data['OneHot_sentiments_encoded'], test_size=0.3, random_state=0)\n",
        "print(len(X_train), len(X_test), len(y_train), len(y_test))"
      ],
      "metadata": {
        "colab": {
          "base_uri": "https://localhost:8080/"
        },
        "id": "TrHuYrgn7zXA",
        "outputId": "665ed103-8e27-4161-9ad8-c9ca334e6814"
      },
      "execution_count": null,
      "outputs": [
        {
          "output_type": "stream",
          "name": "stdout",
          "text": [
            "4089 1753 4089 1753\n"
          ]
        }
      ]
    },
    {
      "cell_type": "markdown",
      "source": [
        "> Question 7: Entraîner un modèle de vectorisation TF sur le texte d’entraînement et le vectoriser"
      ],
      "metadata": {
        "id": "r-f4IpUl8ZXk"
      }
    },
    {
      "cell_type": "code",
      "source": [
        "from sklearn.feature_extraction.text import CountVectorizer\n",
        "\n",
        "# Initialisation du CountVectorizer pour la vectorisation de texte\n",
        "vectorizer = CountVectorizer()\n",
        "\n",
        "# Entraînement du vectorisateur sur l'ensemble d'entraînement et transformation des données\n",
        "X_train_vectorized = vectorizer.fit_transform(X_train)\n",
        "\n",
        "print(X_train_vectorized.shape)\n",
        "# Conversion de la matrice creuse en une matrice dense pour l'affichage\n",
        "print(X_train_vectorized.toarray())"
      ],
      "metadata": {
        "colab": {
          "base_uri": "https://localhost:8080/"
        },
        "id": "xfZ48ph38AIQ",
        "outputId": "08029d84-8cf4-4b3a-b28f-4fac999c414f"
      },
      "execution_count": null,
      "outputs": [
        {
          "output_type": "stream",
          "name": "stdout",
          "text": [
            "(4089, 9497)\n",
            "[[0 0 0 ... 0 0 0]\n",
            " [0 0 0 ... 0 0 0]\n",
            " [0 0 0 ... 0 0 0]\n",
            " ...\n",
            " [0 0 0 ... 0 0 0]\n",
            " [0 0 0 ... 0 0 0]\n",
            " [0 0 0 ... 0 0 0]]\n"
          ]
        }
      ]
    },
    {
      "cell_type": "markdown",
      "source": [
        "> Question 8:\n",
        "Vectoriser le dataset de test en utilisant le même modèle"
      ],
      "metadata": {
        "id": "IvNoUhny8s06"
      }
    },
    {
      "cell_type": "code",
      "source": [
        "# Utilisation du même vectorisateur pour transformer l'ensemble de test\n",
        "X_test_vectorized = vectorizer.transform(X_test)\n"
      ],
      "metadata": {
        "id": "0NZvSc9K8vWG"
      },
      "execution_count": null,
      "outputs": []
    },
    {
      "cell_type": "markdown",
      "source": [
        "> Question 9:\n",
        "Définir une fonction tokenstem pour le stemming\n"
      ],
      "metadata": {
        "id": "3URh-HlC80hZ"
      }
    },
    {
      "cell_type": "code",
      "source": [
        "import nltk\n",
        "from nltk.stem.porter import PorterStemmer\n",
        "from nltk.corpus import stopwords\n",
        "nltk.download('stopwords')\n",
        "\n",
        "def tokenstem(text):\n",
        "    # Utilisation de RegexpTokenizer pour extraire les mots\n",
        "    tokenizer = nltk.RegexpTokenizer(r'\\w+')\n",
        "    tokens = tokenizer.tokenize(text)\n",
        "    stemmer = PorterStemmer()\n",
        "\n",
        "    # Application du stemming sur les tokens filtrés (sans stopwords)\n",
        "    stemmed_tokens = [stemmer.stem(token) for token in tokens if token not in stopwords.words('english')]\n",
        "    return stemmed_tokens"
      ],
      "metadata": {
        "id": "CbA2YBaV82KS"
      },
      "execution_count": null,
      "outputs": []
    },
    {
      "cell_type": "markdown",
      "source": [
        "> Question 10:\n",
        "Refaire les étapes de vectorisation avec des contraintes\n"
      ],
      "metadata": {
        "id": "C0OejvEK87--"
      }
    },
    {
      "cell_type": "code",
      "source": [
        "# Réinitialiser le CountVectorizer avec tokenstem comme tokenizer et une limite sur max_features\n",
        "vectorizer_stemmed = CountVectorizer(tokenizer=tokenstem, max_features=3000)\n",
        "\n",
        "# Entraînement et transformation de l'ensemble d'entraînement\n",
        "X_train_vectorized_stemmed = vectorizer_stemmed.fit_transform(X_train)\n",
        "\n",
        "# Transformation de l'ensemble de test\n",
        "X_test_vectorized_stemmed = vectorizer_stemmed.transform(X_test)\n"
      ],
      "metadata": {
        "colab": {
          "base_uri": "https://localhost:8080/"
        },
        "id": "vfNcZPWl87hy",
        "outputId": "a606c5a6-f99f-40a7-e83b-570f18553661"
      },
      "execution_count": null,
      "outputs": [
        {
          "output_type": "stream",
          "name": "stderr",
          "text": [
            "/usr/local/lib/python3.10/dist-packages/sklearn/feature_extraction/text.py:528: UserWarning: The parameter 'token_pattern' will not be used since 'tokenizer' is not None'\n",
            "  warnings.warn(\n"
          ]
        }
      ]
    },
    {
      "cell_type": "markdown",
      "source": [
        "## 2.1 Créer un modèle SVM linéaire\n",
        "> Question 11: Créez un modèle SVM linéaire en utilisant la classe LinearSVC de scikit-learn. LinearSVC est un SVM spécialement conçu pour les grandes marges linéaires et il est souvent préféré pour les tâches de classification textuelle."
      ],
      "metadata": {
        "id": "2u1gQVAg9P2X"
      }
    },
    {
      "cell_type": "code",
      "source": [
        "from sklearn.svm import LinearSVC\n",
        "\n",
        "# Création du modèle SVM linéaire\n",
        "svm_model = LinearSVC()\n",
        "\n",
        "# Note: LinearSVC est utilisé pour créer un modèle SVM avec un noyau linéaire."
      ],
      "metadata": {
        "id": "2h5DL2nK9R2K"
      },
      "execution_count": null,
      "outputs": []
    },
    {
      "cell_type": "markdown",
      "source": [
        "> Question 12: Entrainez le SVM"
      ],
      "metadata": {
        "id": "deISLqRmiqm2"
      }
    },
    {
      "cell_type": "code",
      "source": [
        "# Aide\n",
        "# Conversion de y_train et y_test en tableau numpy\n",
        "y_train_array = np.array(y_train.tolist())\n",
        "y_test_array = np.array(y_test.tolist())\n",
        "\n",
        "# Utilisation de np.argmax pour transformer en indices de classe\n",
        "y_train_multiclass = np.argmax(y_train_array, axis=1)\n",
        "y_test_multiclass = np.argmax(y_test_array, axis=1)\n",
        "\n",
        "# Ensuite, entraîner le modèle SVM\n",
        "svm_model.fit(X_train_vectorized, y_train_multiclass)\n"
      ],
      "metadata": {
        "colab": {
          "base_uri": "https://localhost:8080/",
          "height": 109
        },
        "id": "GXknodBb97-P",
        "outputId": "91d6bee8-ce77-406a-8744-863964ece958"
      },
      "execution_count": null,
      "outputs": [
        {
          "output_type": "stream",
          "name": "stderr",
          "text": [
            "/usr/local/lib/python3.10/dist-packages/sklearn/svm/_base.py:1244: ConvergenceWarning: Liblinear failed to converge, increase the number of iterations.\n",
            "  warnings.warn(\n"
          ]
        },
        {
          "output_type": "execute_result",
          "data": {
            "text/plain": [
              "LinearSVC()"
            ],
            "text/html": [
              "<style>#sk-container-id-1 {color: black;background-color: white;}#sk-container-id-1 pre{padding: 0;}#sk-container-id-1 div.sk-toggleable {background-color: white;}#sk-container-id-1 label.sk-toggleable__label {cursor: pointer;display: block;width: 100%;margin-bottom: 0;padding: 0.3em;box-sizing: border-box;text-align: center;}#sk-container-id-1 label.sk-toggleable__label-arrow:before {content: \"▸\";float: left;margin-right: 0.25em;color: #696969;}#sk-container-id-1 label.sk-toggleable__label-arrow:hover:before {color: black;}#sk-container-id-1 div.sk-estimator:hover label.sk-toggleable__label-arrow:before {color: black;}#sk-container-id-1 div.sk-toggleable__content {max-height: 0;max-width: 0;overflow: hidden;text-align: left;background-color: #f0f8ff;}#sk-container-id-1 div.sk-toggleable__content pre {margin: 0.2em;color: black;border-radius: 0.25em;background-color: #f0f8ff;}#sk-container-id-1 input.sk-toggleable__control:checked~div.sk-toggleable__content {max-height: 200px;max-width: 100%;overflow: auto;}#sk-container-id-1 input.sk-toggleable__control:checked~label.sk-toggleable__label-arrow:before {content: \"▾\";}#sk-container-id-1 div.sk-estimator input.sk-toggleable__control:checked~label.sk-toggleable__label {background-color: #d4ebff;}#sk-container-id-1 div.sk-label input.sk-toggleable__control:checked~label.sk-toggleable__label {background-color: #d4ebff;}#sk-container-id-1 input.sk-hidden--visually {border: 0;clip: rect(1px 1px 1px 1px);clip: rect(1px, 1px, 1px, 1px);height: 1px;margin: -1px;overflow: hidden;padding: 0;position: absolute;width: 1px;}#sk-container-id-1 div.sk-estimator {font-family: monospace;background-color: #f0f8ff;border: 1px dotted black;border-radius: 0.25em;box-sizing: border-box;margin-bottom: 0.5em;}#sk-container-id-1 div.sk-estimator:hover {background-color: #d4ebff;}#sk-container-id-1 div.sk-parallel-item::after {content: \"\";width: 100%;border-bottom: 1px solid gray;flex-grow: 1;}#sk-container-id-1 div.sk-label:hover label.sk-toggleable__label {background-color: #d4ebff;}#sk-container-id-1 div.sk-serial::before {content: \"\";position: absolute;border-left: 1px solid gray;box-sizing: border-box;top: 0;bottom: 0;left: 50%;z-index: 0;}#sk-container-id-1 div.sk-serial {display: flex;flex-direction: column;align-items: center;background-color: white;padding-right: 0.2em;padding-left: 0.2em;position: relative;}#sk-container-id-1 div.sk-item {position: relative;z-index: 1;}#sk-container-id-1 div.sk-parallel {display: flex;align-items: stretch;justify-content: center;background-color: white;position: relative;}#sk-container-id-1 div.sk-item::before, #sk-container-id-1 div.sk-parallel-item::before {content: \"\";position: absolute;border-left: 1px solid gray;box-sizing: border-box;top: 0;bottom: 0;left: 50%;z-index: -1;}#sk-container-id-1 div.sk-parallel-item {display: flex;flex-direction: column;z-index: 1;position: relative;background-color: white;}#sk-container-id-1 div.sk-parallel-item:first-child::after {align-self: flex-end;width: 50%;}#sk-container-id-1 div.sk-parallel-item:last-child::after {align-self: flex-start;width: 50%;}#sk-container-id-1 div.sk-parallel-item:only-child::after {width: 0;}#sk-container-id-1 div.sk-dashed-wrapped {border: 1px dashed gray;margin: 0 0.4em 0.5em 0.4em;box-sizing: border-box;padding-bottom: 0.4em;background-color: white;}#sk-container-id-1 div.sk-label label {font-family: monospace;font-weight: bold;display: inline-block;line-height: 1.2em;}#sk-container-id-1 div.sk-label-container {text-align: center;}#sk-container-id-1 div.sk-container {/* jupyter's `normalize.less` sets `[hidden] { display: none; }` but bootstrap.min.css set `[hidden] { display: none !important; }` so we also need the `!important` here to be able to override the default hidden behavior on the sphinx rendered scikit-learn.org. See: https://github.com/scikit-learn/scikit-learn/issues/21755 */display: inline-block !important;position: relative;}#sk-container-id-1 div.sk-text-repr-fallback {display: none;}</style><div id=\"sk-container-id-1\" class=\"sk-top-container\"><div class=\"sk-text-repr-fallback\"><pre>LinearSVC()</pre><b>In a Jupyter environment, please rerun this cell to show the HTML representation or trust the notebook. <br />On GitHub, the HTML representation is unable to render, please try loading this page with nbviewer.org.</b></div><div class=\"sk-container\" hidden><div class=\"sk-item\"><div class=\"sk-estimator sk-toggleable\"><input class=\"sk-toggleable__control sk-hidden--visually\" id=\"sk-estimator-id-1\" type=\"checkbox\" checked><label for=\"sk-estimator-id-1\" class=\"sk-toggleable__label sk-toggleable__label-arrow\">LinearSVC</label><div class=\"sk-toggleable__content\"><pre>LinearSVC()</pre></div></div></div></div></div>"
            ]
          },
          "metadata": {},
          "execution_count": 69
        }
      ]
    },
    {
      "cell_type": "markdown",
      "source": [
        "### 2.3 Prédire les classes sur l'ensemble d'entraînement\n",
        "Maintenant que votre modèle est entraîné, vous pouvez l'utiliser pour prédire les classes sur l'ensemble d'entraînement. Cela vous aidera à évaluer comment le modèle performe sur les données qu'il a déjà vues."
      ],
      "metadata": {
        "id": "YuF08PWA-aOL"
      }
    },
    {
      "cell_type": "markdown",
      "source": [
        "> Question 13: Faites les predictions sur l'ensemble d'entrainement"
      ],
      "metadata": {
        "id": "zh8Fj1Gki4IZ"
      }
    },
    {
      "cell_type": "code",
      "source": [
        "# Prédiction des classes sur l'ensemble d'entraînement\n",
        "train_predictions = svm_model.predict(X_train_vectorized)\n",
        "\n",
        "# Note: La méthode predict() est utilisée pour obtenir les prédictions du modèle sur l'ensemble d'entraînement."
      ],
      "metadata": {
        "id": "JC93KVDH9bkD"
      },
      "execution_count": null,
      "outputs": []
    },
    {
      "cell_type": "markdown",
      "source": [
        "### 2.4 Afficher le rapport de classification\n",
        "Le rapport de classification fournit des métriques détaillées qui sont utiles pour évaluer les performances du modèle. Ces métriques incluent la précision, le rappel, le score F1, etc., pour chaque classe."
      ],
      "metadata": {
        "id": "C3lW1Hqp-gV1"
      }
    },
    {
      "cell_type": "markdown",
      "source": [
        "> Question 14: Affichez le rapport de classification"
      ],
      "metadata": {
        "id": "AYxQdsVui_8L"
      }
    },
    {
      "cell_type": "code",
      "source": [
        "from sklearn.metrics import classification_report\n",
        "\n",
        "# Génération du rapport de classification pour l'ensemble d'entraînement\n",
        "print(classification_report(y_train_multiclass, train_predictions))\n",
        "\n",
        "# Note: classification_report fournit une analyse détaillée des performances du modèle."
      ],
      "metadata": {
        "id": "6FkXGeCC-h77"
      },
      "execution_count": null,
      "outputs": []
    },
    {
      "cell_type": "markdown",
      "source": [
        "## 3. Test\n",
        "### 3.1 Prédire les classes sur l'ensemble de test\n",
        "Utilisez le modèle pour prédire les classes des données de test, qui ont été préalablement transformées en vecteurs."
      ],
      "metadata": {
        "id": "zUGSPtjO-yUG"
      }
    },
    {
      "cell_type": "markdown",
      "source": [
        "> Question 15: Faites les predictions et affichez le rapport de classification sur le set de test"
      ],
      "metadata": {
        "id": "9fQDX0f1jIYn"
      }
    },
    {
      "cell_type": "code",
      "source": [
        "# Prédiction des classes sur l'ensemble de test\n",
        "test_predictions = svm_model.predict(X_test_vectorized)\n",
        "\n",
        "# Génération du rapport de classification pour l'ensemble de test\n",
        "print(classification_report(y_test_multiclass, test_predictions))"
      ],
      "metadata": {
        "id": "WyFAoIKm-27-"
      },
      "execution_count": null,
      "outputs": []
    }
  ]
}