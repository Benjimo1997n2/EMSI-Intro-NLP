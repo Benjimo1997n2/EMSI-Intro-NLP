{
  "nbformat": 4,
  "nbformat_minor": 0,
  "metadata": {
    "colab": {
      "provenance": []
    },
    "kernelspec": {
      "name": "python3",
      "display_name": "Python 3"
    },
    "language_info": {
      "name": "python"
    }
  },
  "cells": [
    {
      "cell_type": "markdown",
      "source": [
        "# TP4: évaluation des connaissances\n",
        "- IMPORTANT: Mettez votre nom et prénom dans le nom du fichier: TP4_NOM_PRENOM\n",
        "- IMPORTANT: Donnez moi les inputs pour lancer les 3 tâches\n",
        "- IMPORTANT: Donnez moi les fichiers / modèles si finetuning\n",
        "- IMPORTANT: Commentez votre code\n",
        "\n",
        "## Objectif: Créer un ChatBot permettant d'effectuer 3 tâches de NLP\n",
        "L'objectif de ce TP 4 est d'utiliser les connaissances collectées lors des précédents TP pour créer un ChatBot capable de comprendre et d'exécuter 3 tâches de NLP différents. Il faut 1) développer le ChatBot (sur Colab) et 2) coder 3 fonctions pour les 3 tâches de NLP.\n",
        "\n",
        "Voici les critères d'évaluation:\n",
        "- Robustesse du ChatBot (vous pouvez repartir d'ELIZA et ajuster les règles)\n",
        "- Diversité des méthodes pour réaliser les tâches (Règles, Machine Learning, Deep Learning, Finetuning, ...)\n",
        "- Diversité des tâches (ne faite pas 3 fois du sentiment analysis et essayer de ne pas faire que de la classification)\n",
        "- Qualité du code, documentation (commentaire, instruction, explication, ...) et facilité à tester\n",
        "- Résultats (si finetuning)\n",
        "\n",
        "## Exemple d'échanges avec le ChatBot (facile)\n",
        "> User: sentiment-analysis: I love NLP classes!\\\n",
        "Bot: POSITIVE\\\n",
        "User: music-style: title: Flowers | author: Miley Cyrus\\\n",
        "Bot: Pop music\\\n",
        "User: ner: Apple is a big company!\\\n",
        "Bot: Apple -> Company\n",
        "\n",
        "Dans cet exemple le Bot reconnaît les patterns \"sentiment-analysis\", \"music-style\" et \"ner\", execute les fonctions concernées et retourne les résultats à l'utilisateur.\n",
        "\n",
        "## Exemple d'échanges avec le ChatBot (difficile)\n",
        "> User: Quel est la polarité/sentiment dans \"I love NLP classes!\"\\\n",
        "Bot: Le sentiment est positif\\\n",
        "User: Quel est le style de cette musique: title: Flowers | author: Miley Cyrus\\\n",
        "Bot: C'est de la Pop music!\\\n",
        "User: Donne moi les entreprises dans la phrase: \"Apple is a big company!\"\\\n",
        "Bot: Il y a 1 entreprise: \"Apple\"\n",
        "\n",
        "Idem que l’exemple précédent mais avec des inputs plus complexes.\n",
        "\n",
        "## Conseils\n",
        "Faites 3 fonctions f1, f2, f3 (ou, nommez les selon la tâche) et réutilisez le code de ELIZA pour déclencher les fonctions selon ce que vous détectez dans l'input utilisateur. Variez les tâches et n'hésitez pas à utiliser huggingface (https://huggingface.co/learn/nlp-course/chapter1/3?fw=pt) pour vous aider.\n",
        "\n",
        "## Pour ceux qui n'ont pas d'idées:\n",
        "- Base du ChatBot: TP1 -> ELIZA\n",
        "- Fonction 1: TP2 -> Text Classification - Sentiment Analysis (Machine Learning)\n",
        "- Fonction 2: TP3 -> Text Classification - Music style prediction (Deep Learning + Tranformer Finetuning)\n",
        "- Fonction 3: Doc/Cours Huggingface\n",
        "- IMPORTANT: MODIFIEZ UN MINIMUM LES PROJETS! Ne me rendez pas MA propre correction de TP...\n",
        "\n",
        "## Attention\n",
        "- Ne faites pas 3 fois la même tache\n",
        "- N'utilisez pas 3 fois la même méthode\n",
        "- Ne dupliquez pas le code brut d'un collègue\n",
        "- Utilisez ChatGPT intelligemment\n",
        "- Si vous utilisez des modèles non accessible en ligne, envoyez les moi!\n",
        "- Verifiez que le code tourne sur Colab!\n",
        "- Mettez votre nom et prenom dans le nom du fichier: TP4_NOM_PRENOM"
      ],
      "metadata": {
        "id": "Ls3UZVaeJiAu"
      }
    },
    {
      "cell_type": "code",
      "source": [],
      "metadata": {
        "id": "iGOo5pJNihSV"
      },
      "execution_count": null,
      "outputs": []
    }
  ]
}